{
 "cells": [
  {
   "cell_type": "code",
   "execution_count": 55,
   "metadata": {},
   "outputs": [],
   "source": [
    "import numpy as np\n",
    "import scipy\n",
    "from sklearn import ensemble , model_selection, metrics \n",
    "import pandas as pd\n",
    "import xgboost as xgb\n",
    "from sklearn.model_selection import GridSearchCV"
   ]
  },
  {
   "cell_type": "code",
   "execution_count": 56,
   "metadata": {},
   "outputs": [],
   "source": [
    "data = pd.read_csv('X_train.csv', header=0, sep=',')\n",
    "Test_test = pd.read_csv('X_test.csv', header=0, sep=',')\n",
    "df_test = pd.DataFrame(Test_test)"
   ]
  },
  {
   "cell_type": "code",
   "execution_count": 57,
   "metadata": {},
   "outputs": [
    {
     "data": {
      "text/html": [
       "<div>\n",
       "<style scoped>\n",
       "    .dataframe tbody tr th:only-of-type {\n",
       "        vertical-align: middle;\n",
       "    }\n",
       "\n",
       "    .dataframe tbody tr th {\n",
       "        vertical-align: top;\n",
       "    }\n",
       "\n",
       "    .dataframe thead th {\n",
       "        text-align: right;\n",
       "    }\n",
       "</style>\n",
       "<table border=\"1\" class=\"dataframe\">\n",
       "  <thead>\n",
       "    <tr style=\"text-align: right;\">\n",
       "      <th></th>\n",
       "      <th>Unnamed: 0</th>\n",
       "      <th>0.0</th>\n",
       "      <th>0.0.1</th>\n",
       "      <th>5.0</th>\n",
       "      <th>6.0</th>\n",
       "      <th>7.0</th>\n",
       "      <th>y</th>\n",
       "    </tr>\n",
       "  </thead>\n",
       "  <tbody>\n",
       "    <tr>\n",
       "      <th>0</th>\n",
       "      <td>0</td>\n",
       "      <td>440.0</td>\n",
       "      <td>15.753</td>\n",
       "      <td>17.167</td>\n",
       "      <td>0.087</td>\n",
       "      <td>-0.518</td>\n",
       "      <td>-0.316</td>\n",
       "    </tr>\n",
       "    <tr>\n",
       "      <th>1</th>\n",
       "      <td>1</td>\n",
       "      <td>429.0</td>\n",
       "      <td>16.240</td>\n",
       "      <td>17.125</td>\n",
       "      <td>0.230</td>\n",
       "      <td>-0.723</td>\n",
       "      <td>-0.501</td>\n",
       "    </tr>\n",
       "    <tr>\n",
       "      <th>2</th>\n",
       "      <td>2</td>\n",
       "      <td>451.0</td>\n",
       "      <td>15.313</td>\n",
       "      <td>17.021</td>\n",
       "      <td>-0.121</td>\n",
       "      <td>-0.398</td>\n",
       "      <td>-0.307</td>\n",
       "    </tr>\n",
       "    <tr>\n",
       "      <th>3</th>\n",
       "      <td>3</td>\n",
       "      <td>407.0</td>\n",
       "      <td>16.569</td>\n",
       "      <td>16.956</td>\n",
       "      <td>0.162</td>\n",
       "      <td>-0.853</td>\n",
       "      <td>-0.364</td>\n",
       "    </tr>\n",
       "    <tr>\n",
       "      <th>4</th>\n",
       "      <td>4</td>\n",
       "      <td>418.0</td>\n",
       "      <td>16.414</td>\n",
       "      <td>16.990</td>\n",
       "      <td>0.180</td>\n",
       "      <td>-0.831</td>\n",
       "      <td>-0.471</td>\n",
       "    </tr>\n",
       "  </tbody>\n",
       "</table>\n",
       "</div>"
      ],
      "text/plain": [
       "   Unnamed: 0    0.0   0.0.1     5.0    6.0    7.0      y\n",
       "0           0  440.0  15.753  17.167  0.087 -0.518 -0.316\n",
       "1           1  429.0  16.240  17.125  0.230 -0.723 -0.501\n",
       "2           2  451.0  15.313  17.021 -0.121 -0.398 -0.307\n",
       "3           3  407.0  16.569  16.956  0.162 -0.853 -0.364\n",
       "4           4  418.0  16.414  16.990  0.180 -0.831 -0.471"
      ]
     },
     "execution_count": 57,
     "metadata": {},
     "output_type": "execute_result"
    }
   ],
   "source": [
    "data.head()"
   ]
  },
  {
   "cell_type": "code",
   "execution_count": 58,
   "metadata": {},
   "outputs": [],
   "source": [
    "#data_target = [0 if type(x) != 'float' else x for x in  data.y.values]\n",
    "df = pd.DataFrame(data)\n",
    "df.fillna(0)\n",
    "df.ffill(inplace=True)\n",
    "#df.round(4)\n",
    "df_test.fillna(0)\n",
    "df_test.ffill(inplace=True)\n",
    "\n",
    "X = df.iloc[:, 1:]\n",
    "y = df['y']\n",
    "\n",
    "X_train, X_test, y_train, y_test = model_selection.train_test_split(X, y, test_size=0.33, random_state=42)\n"
   ]
  },
  {
   "cell_type": "code",
   "execution_count": 69,
   "metadata": {},
   "outputs": [],
   "source": [
    "estimator = ensemble.RandomForestRegressor(n_estimators = 200, min_samples_split=2, max_depth = 7 , random_state=1)\n",
    "#estimator = xgb.XGBRegressor(n_estimators=100, learning_rate=0.08, gamma=0, subsample=0.75,colsample_bytree=1, max_depth=7)\n",
    "estimator.fit(X_train, y_train)\n",
    "preds = estimator.predict(X_test)\n",
    "#score = model_selection.cross_val_score(estimator, df, df_tar, scoring = 'neg_mean_absolute_error', cv = 5)\n",
    "#print(estimator.predict([440.0, 15.753, 17.167, 0.087, -0.518]))"
   ]
  },
  {
   "cell_type": "code",
   "execution_count": 70,
   "metadata": {},
   "outputs": [
    {
     "name": "stdout",
     "output_type": "stream",
     "text": [
      "0.0033481281914314385\n",
      "0.9985613732412697\n"
     ]
    }
   ],
   "source": [
    "print(metrics.mean_absolute_error(preds,y_test))\n",
    "\n",
    "print(model_selection.cross_val_score(estimator, X_test, y_test, cv=5).mean())"
   ]
  },
  {
   "cell_type": "code",
   "execution_count": null,
   "metadata": {},
   "outputs": [],
   "source": []
  },
  {
   "cell_type": "code",
   "execution_count": 71,
   "metadata": {},
   "outputs": [],
   "source": [
    "Test_preds = estimator.predict(df_test)"
   ]
  },
  {
   "cell_type": "code",
   "execution_count": 75,
   "metadata": {},
   "outputs": [
    {
     "name": "stdout",
     "output_type": "stream",
     "text": [
      "[ 0.977935    0.99821125  1.01103125  0.5956209   0.06899218 -0.41588137\n",
      "  0.04601801  0.39798841  0.977935    0.74430608  0.44688719  0.3688231\n",
      "  0.98299     0.53579129 -0.00693016  1.01786625  0.98299     0.24110907\n",
      "  1.01103125  0.74441775 -0.43590284  0.54678597  1.01103125 -0.07280374\n",
      "  0.982295    1.01576625  0.2050964   0.99821125 -0.45688551 -0.27648485\n",
      "  1.01103125  1.01210125  0.21607404  0.44676523  0.13023935  0.53719462\n",
      "  0.86589892  0.28097084  0.88691625  0.47385531 -0.59358786  1.01103125\n",
      "  1.01786625  0.88630333  0.59593681  1.01103125 -0.1578276   1.00454083\n",
      "  1.01103125  0.60039215  1.01103125  0.29011837  1.01103125  0.23941754\n",
      "  1.01530125  0.4456613   0.28516132  0.977935    0.86674392  0.980305\n",
      "  0.86467225  0.29918691 -0.45198716  0.79553175  1.01103125  0.2966382\n",
      "  0.2988293   1.00566125  0.98299     0.27227859  1.01533625  1.01103125\n",
      "  0.867616    0.79126458  0.07918949  1.01761125  0.74230039  0.47700689\n",
      "  1.01174292  0.96933667  0.75427708  0.97048333  1.01174292  1.01174292\n",
      "  0.16674986  1.01174292  0.58228625  0.97897     1.01832292  0.21610571\n",
      "  0.64860037  0.49253603 -0.11103924  0.64987252 -0.45187716  1.01174292\n",
      "  0.87774992  0.82794608  0.75598025  1.01174292]\n"
     ]
    }
   ],
   "source": [
    "print(np.array(Test_preds))"
   ]
  },
  {
   "cell_type": "code",
   "execution_count": 76,
   "metadata": {},
   "outputs": [],
   "source": [
    "f = result.txt', 'w')\n",
    "for p in Test_preds:\n",
    "    f.write(str(p) + '\\n')\n",
    "f.close()"
   ]
  },
  {
   "cell_type": "code",
   "execution_count": null,
   "metadata": {},
   "outputs": [],
   "source": []
  },
  {
   "cell_type": "code",
   "execution_count": null,
   "metadata": {},
   "outputs": [],
   "source": []
  }
 ],
 "metadata": {
  "kernelspec": {
   "display_name": "Python 3",
   "language": "python",
   "name": "python3"
  },
  "language_info": {
   "codemirror_mode": {
    "name": "ipython",
    "version": 3
   },
   "file_extension": ".py",
   "mimetype": "text/x-python",
   "name": "python",
   "nbconvert_exporter": "python",
   "pygments_lexer": "ipython3",
   "version": "3.6.7"
  }
 },
 "nbformat": 4,
 "nbformat_minor": 2
}
